{
 "cells": [
  {
   "cell_type": "code",
   "execution_count": 1,
   "id": "97beb134",
   "metadata": {},
   "outputs": [],
   "source": [
    "import pandas as pd\n",
    "from bs4 import BeautifulSoup\n",
    "import requests"
   ]
  },
  {
   "cell_type": "code",
   "execution_count": null,
   "id": "2ba444a9",
   "metadata": {},
   "outputs": [],
   "source": [
    "pd.re"
   ]
  },
  {
   "cell_type": "code",
   "execution_count": 2,
   "id": "0b9b4e67",
   "metadata": {},
   "outputs": [],
   "source": [
    "url = \"https://www.jumia.com.eg/catalog/?q=red+sport+shoes\""
   ]
  },
  {
   "cell_type": "code",
   "execution_count": 257,
   "id": "4f4db680",
   "metadata": {},
   "outputs": [],
   "source": [
    "content = requests.get(url).content"
   ]
  },
  {
   "cell_type": "code",
   "execution_count": 258,
   "id": "96291142",
   "metadata": {},
   "outputs": [],
   "source": [
    "soup = BeautifulSoup(content)"
   ]
  },
  {
   "cell_type": "code",
   "execution_count": 259,
   "id": "7ad46812",
   "metadata": {},
   "outputs": [
    {
     "name": "stdout",
     "output_type": "stream",
     "text": [
      "[<title>Shop All Products @ #1 Online Store - Enjoy Online Shopping @ Best Prices - Jumia Egypt</title>]\n"
     ]
    }
   ],
   "source": [
    "print(soup.find_all(\"title\"))"
   ]
  },
  {
   "cell_type": "code",
   "execution_count": 15,
   "id": "09c140af",
   "metadata": {},
   "outputs": [
    {
     "name": "stdout",
     "output_type": "stream",
     "text": [
      "None\n"
     ]
    }
   ],
   "source": [
    "#I'm trying to find where the links of the products are\n",
    "print(soup.find(text = \"https://www.jumia.com.eg/starter-boysgilrs-sneaker-blackred-17727164.html\"))"
   ]
  },
  {
   "cell_type": "code",
   "execution_count": 32,
   "id": "d336aa23",
   "metadata": {},
   "outputs": [],
   "source": [
    "#Here i brought the title of a random product in the page to try to find it on the main soup\n",
    "title_cotent = requests.get(\"https://www.jumia.com.eg/starter-boysgilrs-sneaker-blackred-17727164.html\").content\n",
    "title_soup = BeautifulSoup(title_cotent)\n",
    "random_title = title_soup.find(\"title\")"
   ]
  },
  {
   "cell_type": "code",
   "execution_count": 43,
   "id": "0c7858b0",
   "metadata": {},
   "outputs": [
    {
     "data": {
      "text/plain": [
       "list"
      ]
     },
     "execution_count": 43,
     "metadata": {},
     "output_type": "execute_result"
    }
   ],
   "source": [
    "type(random_title.contents)"
   ]
  },
  {
   "cell_type": "code",
   "execution_count": 44,
   "id": "abe32df9",
   "metadata": {},
   "outputs": [],
   "source": [
    "#And it didn't work\n",
    "soup.find(text = random_title.contents[0])"
   ]
  },
  {
   "cell_type": "code",
   "execution_count": null,
   "id": "8f2a62af",
   "metadata": {},
   "outputs": [],
   "source": []
  },
  {
   "cell_type": "code",
   "execution_count": 26,
   "id": "085179ba",
   "metadata": {},
   "outputs": [
    {
     "data": {
      "text/plain": [
       "<div class=\"info\"><h3 class=\"name\">Activ Stitched Lace Up Navy Blue &amp; Red Leather Football Shoes</h3><div class=\"prc\">EGP 849.00</div><div class=\"s-prc-w\"><div class=\"old\">EGP 1,199.00</div><div class=\"bdg _dsct _sm\">29%</div></div><svg aria-label=\"Express Shipping\" class=\"ic xprss\" height=\"10\" viewbox=\"0 0 114 12\" width=\"94\"><use xlink:href=\"https://www.jumia.com.eg/assets_he/images/i-shop-jumia.9f5451c7.svg#express\"></use></svg><p class=\"shipp\">Eligible for free delivery</p></div>"
      ]
     },
     "execution_count": 26,
     "metadata": {},
     "output_type": "execute_result"
    }
   ],
   "source": [
    "#I will try to search for the product name\n",
    "soup.find(text = \"Activ Stitched Lace Up Navy Blue & Red Leather Football Shoes\").parent.parent\n",
    "#I found it but i can't find the link of the product in this div"
   ]
  },
  {
   "cell_type": "markdown",
   "id": "77a9af04",
   "metadata": {},
   "source": [
    "from this one i can get (Price, discount, price after discount, product name, shipping type) but i still want \n",
    "the product ratings"
   ]
  },
  {
   "cell_type": "markdown",
   "id": "5bde3153",
   "metadata": {},
   "source": [
    "Now i will try to find all the div with class \"info\" and hopfilly i will be able to create a list with all producta name in this page"
   ]
  },
  {
   "cell_type": "code",
   "execution_count": 260,
   "id": "801df61a",
   "metadata": {},
   "outputs": [],
   "source": [
    "div_list = soup.find_all(\"div\", class_ = \"info\")"
   ]
  },
  {
   "cell_type": "markdown",
   "id": "ab2cae3e",
   "metadata": {},
   "source": [
    "Now i have a list with all divs i can extract all the data i need"
   ]
  },
  {
   "cell_type": "code",
   "execution_count": 261,
   "id": "8a6e4f57",
   "metadata": {},
   "outputs": [
    {
     "data": {
      "text/plain": [
       "<div class=\"info\"><h3 class=\"name\">Red Knitted Knitted Shawl</h3><div class=\"prc\">EGP 178.00</div><div class=\"s-prc-w\"><div class=\"old\">EGP 300.00</div><div class=\"bdg _dsct _sm\">41%</div></div></div>"
      ]
     },
     "execution_count": 261,
     "metadata": {},
     "output_type": "execute_result"
    }
   ],
   "source": [
    "div_list[0]"
   ]
  },
  {
   "cell_type": "code",
   "execution_count": 262,
   "id": "c3136ed3",
   "metadata": {},
   "outputs": [
    {
     "data": {
      "text/plain": [
       "40"
      ]
     },
     "execution_count": 262,
     "metadata": {},
     "output_type": "execute_result"
    }
   ],
   "source": [
    "#number of products in this page\n",
    "len(div_list)"
   ]
  },
  {
   "cell_type": "markdown",
   "id": "37dbe5db",
   "metadata": {},
   "source": [
    "I will work on one div then i wil make a for loop for the all list"
   ]
  },
  {
   "cell_type": "code",
   "execution_count": 221,
   "id": "4867470f",
   "metadata": {},
   "outputs": [],
   "source": [
    "sample = div_list[0]"
   ]
  },
  {
   "cell_type": "code",
   "execution_count": 222,
   "id": "fcf9c179",
   "metadata": {},
   "outputs": [],
   "source": [
    "product_name = sample.find(\"h3\", class_ = \"name\").contents[0]"
   ]
  },
  {
   "cell_type": "code",
   "execution_count": 223,
   "id": "8eba5a2c",
   "metadata": {},
   "outputs": [
    {
     "data": {
      "text/plain": [
       "260.0"
      ]
     },
     "execution_count": 223,
     "metadata": {},
     "output_type": "execute_result"
    }
   ],
   "source": [
    "# to extract the old price\n",
    "old_price = sample.find(\"div\", class_ = \"old\").contents[0]\n",
    "#I want to remove the EGP and ',' and make it float\n",
    "old_price = old_price.split()[1]\n",
    "old_price = float(old_price.replace(\",\",\"\"))\n",
    "old_price"
   ]
  },
  {
   "cell_type": "code",
   "execution_count": 224,
   "id": "2d54f914",
   "metadata": {},
   "outputs": [],
   "source": [
    "price = sample.find(\"div\", class_ = \"prc\").contents[0]\n",
    "#I want to remove the EGP and make it float\n",
    "price = price.split()[1]\n",
    "price = float(price.replace(\",\",\"\"))"
   ]
  },
  {
   "cell_type": "code",
   "execution_count": 225,
   "id": "b2febdee",
   "metadata": {},
   "outputs": [],
   "source": [
    "discount = sample.find(\"div\", class_ = \"bdg _dsct _sm\").contents[0]\n",
    "discount = int(discount.replace(\"%\", \"\"))"
   ]
  },
  {
   "cell_type": "code",
   "execution_count": 226,
   "id": "6b8f2f70",
   "metadata": {},
   "outputs": [],
   "source": [
    "rating = sample.find(\"div\", class_ = \"stars _s\").contents[0]\n",
    "rating = float(rating.split()[0])"
   ]
  },
  {
   "cell_type": "code",
   "execution_count": 94,
   "id": "853cbc26",
   "metadata": {},
   "outputs": [],
   "source": [
    "#I will extract if there is free delivry or not\n",
    "free_delivery = sample.find(\"p\").contents[0]"
   ]
  },
  {
   "cell_type": "markdown",
   "id": "e2efff39",
   "metadata": {},
   "source": [
    "Now i will work on converting all of this into a for loop"
   ]
  },
  {
   "cell_type": "code",
   "execution_count": 263,
   "id": "07e7925e",
   "metadata": {},
   "outputs": [],
   "source": [
    "#Empty lists for the values\n",
    "names_list = []\n",
    "old_prices_list = []\n",
    "new_prices_list = []\n",
    "discount_list = []\n",
    "rating_list = []\n",
    "free_delivery_list = []"
   ]
  },
  {
   "cell_type": "code",
   "execution_count": 264,
   "id": "8b2624b2",
   "metadata": {},
   "outputs": [],
   "source": [
    "for div in div_list:\n",
    "    product_name = div.find(\"h3\", class_ = \"name\").contents[0]\n",
    "    \n",
    "    price = div.find(\"div\", class_ = \"prc\").contents[0]\n",
    "    #I want to remove the EGP and \",\" to make it float\n",
    "    price = price.split()[1]\n",
    "    price = float(price.replace(\",\",\"\"))\n",
    "    try:\n",
    "        old_price = div.find(\"div\", class_ = \"old\").contents[0]\n",
    "        old_price = old_price.split()[1]\n",
    "        old_price = float(old_price.replace(\",\",\"\"))\n",
    "    except:\n",
    "        old_price = price\n",
    "    \n",
    "    try:\n",
    "        discount = div.find(\"div\", class_ = \"bdg _dsct _sm\").contents[0]\n",
    "        discount = int(discount.replace(\"%\", \"\"))\n",
    "    except:\n",
    "        discount = 0\n",
    "    \n",
    "    try:\n",
    "        rating = div.find(\"div\", class_ = \"stars _s\").contents[0]\n",
    "        rating = float(rating.split()[0])\n",
    "    except:\n",
    "        rating = \"No rating\"\n",
    "        \n",
    "    try:\n",
    "        free_delivery = div.find(\"p\").contents[0]\n",
    "    except:\n",
    "        free_delivery = \"NA\"\n",
    "    \n",
    "    #Now i will append these values into new lists\n",
    "    \n",
    "    names_list.append(product_name)\n",
    "    old_prices_list.append(old_price)\n",
    "    new_prices_list.append(price)\n",
    "    discount_list.append(discount)\n",
    "    rating_list.append(rating)\n",
    "    free_delivery_list.append(free_delivery)"
   ]
  },
  {
   "cell_type": "code",
   "execution_count": 265,
   "id": "54cd5857",
   "metadata": {},
   "outputs": [
    {
     "data": {
      "text/plain": [
       "40"
      ]
     },
     "execution_count": 265,
     "metadata": {},
     "output_type": "execute_result"
    }
   ],
   "source": [
    "#If this is working the len should give you 40, if not make sure that you run the cell of the empty list first before\n",
    "# running the cell of the for loop\n",
    "len(names_list)"
   ]
  },
  {
   "cell_type": "code",
   "execution_count": 266,
   "id": "4b0467ae",
   "metadata": {},
   "outputs": [],
   "source": [
    "#Nowi will create the data frame\n",
    "dict_ = {\"product_name\": names_list, \"old_price\": old_prices_list, \"discount\": discount_list, \n",
    "         \"current_price\": new_prices_list,\n",
    "         \"rating\": rating_list, \"delivery\": free_delivery_list}"
   ]
  },
  {
   "cell_type": "code",
   "execution_count": 267,
   "id": "e28cbb74",
   "metadata": {},
   "outputs": [],
   "source": [
    "df = pd.DataFrame(dict_)"
   ]
  },
  {
   "cell_type": "markdown",
   "id": "cd5f9857",
   "metadata": {},
   "source": [
    "After i created the data set i want to take a look at it to see if any thing needs to be edited"
   ]
  },
  {
   "cell_type": "code",
   "execution_count": 268,
   "id": "db50c2b6",
   "metadata": {},
   "outputs": [
    {
     "data": {
      "text/html": [
       "<div>\n",
       "<style scoped>\n",
       "    .dataframe tbody tr th:only-of-type {\n",
       "        vertical-align: middle;\n",
       "    }\n",
       "\n",
       "    .dataframe tbody tr th {\n",
       "        vertical-align: top;\n",
       "    }\n",
       "\n",
       "    .dataframe thead th {\n",
       "        text-align: right;\n",
       "    }\n",
       "</style>\n",
       "<table border=\"1\" class=\"dataframe\">\n",
       "  <thead>\n",
       "    <tr style=\"text-align: right;\">\n",
       "      <th></th>\n",
       "      <th>product_name</th>\n",
       "      <th>old_price</th>\n",
       "      <th>discount</th>\n",
       "      <th>current_price</th>\n",
       "      <th>rating</th>\n",
       "      <th>delivery</th>\n",
       "    </tr>\n",
       "  </thead>\n",
       "  <tbody>\n",
       "    <tr>\n",
       "      <th>0</th>\n",
       "      <td>Red Knitted Knitted Shawl</td>\n",
       "      <td>300.0</td>\n",
       "      <td>41</td>\n",
       "      <td>178.0</td>\n",
       "      <td>No rating</td>\n",
       "      <td>NA</td>\n",
       "    </tr>\n",
       "    <tr>\n",
       "      <th>1</th>\n",
       "      <td>Ricci Casual Patterned Dark Red Cape For Woman</td>\n",
       "      <td>600.0</td>\n",
       "      <td>50</td>\n",
       "      <td>300.0</td>\n",
       "      <td>5.0</td>\n",
       "      <td>NA</td>\n",
       "    </tr>\n",
       "    <tr>\n",
       "      <th>2</th>\n",
       "      <td>Blouse Barn Red Paisley Viscose Kimono Suit</td>\n",
       "      <td>599.0</td>\n",
       "      <td>53</td>\n",
       "      <td>279.0</td>\n",
       "      <td>No rating</td>\n",
       "      <td>NA</td>\n",
       "    </tr>\n",
       "    <tr>\n",
       "      <th>3</th>\n",
       "      <td>Velvet Hooded Cloak Long Robe Witch   Costume ...</td>\n",
       "      <td>560.0</td>\n",
       "      <td>23</td>\n",
       "      <td>431.0</td>\n",
       "      <td>No rating</td>\n",
       "      <td>NA</td>\n",
       "    </tr>\n",
       "    <tr>\n",
       "      <th>4</th>\n",
       "      <td>Velvet Hooded Cloak Long Robe Witch   Costume ...</td>\n",
       "      <td>681.0</td>\n",
       "      <td>23</td>\n",
       "      <td>524.0</td>\n",
       "      <td>No rating</td>\n",
       "      <td>NA</td>\n",
       "    </tr>\n",
       "  </tbody>\n",
       "</table>\n",
       "</div>"
      ],
      "text/plain": [
       "                                        product_name  old_price  discount  \\\n",
       "0                          Red Knitted Knitted Shawl      300.0        41   \n",
       "1     Ricci Casual Patterned Dark Red Cape For Woman      600.0        50   \n",
       "2        Blouse Barn Red Paisley Viscose Kimono Suit      599.0        53   \n",
       "3  Velvet Hooded Cloak Long Robe Witch   Costume ...      560.0        23   \n",
       "4  Velvet Hooded Cloak Long Robe Witch   Costume ...      681.0        23   \n",
       "\n",
       "   current_price     rating delivery  \n",
       "0          178.0  No rating       NA  \n",
       "1          300.0        5.0       NA  \n",
       "2          279.0  No rating       NA  \n",
       "3          431.0  No rating       NA  \n",
       "4          524.0  No rating       NA  "
      ]
     },
     "execution_count": 268,
     "metadata": {},
     "output_type": "execute_result"
    }
   ],
   "source": [
    "df.head()"
   ]
  },
  {
   "cell_type": "code",
   "execution_count": 269,
   "id": "ea2ca15a",
   "metadata": {},
   "outputs": [
    {
     "data": {
      "text/html": [
       "<div>\n",
       "<style scoped>\n",
       "    .dataframe tbody tr th:only-of-type {\n",
       "        vertical-align: middle;\n",
       "    }\n",
       "\n",
       "    .dataframe tbody tr th {\n",
       "        vertical-align: top;\n",
       "    }\n",
       "\n",
       "    .dataframe thead th {\n",
       "        text-align: right;\n",
       "    }\n",
       "</style>\n",
       "<table border=\"1\" class=\"dataframe\">\n",
       "  <thead>\n",
       "    <tr style=\"text-align: right;\">\n",
       "      <th></th>\n",
       "      <th>product_name</th>\n",
       "      <th>old_price</th>\n",
       "      <th>discount</th>\n",
       "      <th>current_price</th>\n",
       "      <th>rating</th>\n",
       "      <th>delivery</th>\n",
       "    </tr>\n",
       "  </thead>\n",
       "  <tbody>\n",
       "    <tr>\n",
       "      <th>7</th>\n",
       "      <td>Cap Shawl For Women Wool Gogh Red Color High H...</td>\n",
       "      <td>650.0</td>\n",
       "      <td>0</td>\n",
       "      <td>650.0</td>\n",
       "      <td>No rating</td>\n",
       "      <td>NA</td>\n",
       "    </tr>\n",
       "    <tr>\n",
       "      <th>10</th>\n",
       "      <td>Lovely Red Cape For Woman</td>\n",
       "      <td>575.0</td>\n",
       "      <td>0</td>\n",
       "      <td>575.0</td>\n",
       "      <td>5.0</td>\n",
       "      <td>NA</td>\n",
       "    </tr>\n",
       "    <tr>\n",
       "      <th>16</th>\n",
       "      <td>Casual Cape For Women - Red</td>\n",
       "      <td>950.0</td>\n",
       "      <td>0</td>\n",
       "      <td>950.0</td>\n",
       "      <td>No rating</td>\n",
       "      <td>NA</td>\n",
       "    </tr>\n",
       "  </tbody>\n",
       "</table>\n",
       "</div>"
      ],
      "text/plain": [
       "                                         product_name  old_price  discount  \\\n",
       "7   Cap Shawl For Women Wool Gogh Red Color High H...      650.0         0   \n",
       "10                          Lovely Red Cape For Woman      575.0         0   \n",
       "16                       Casual Cape For Women - Red       950.0         0   \n",
       "\n",
       "    current_price     rating delivery  \n",
       "7           650.0  No rating       NA  \n",
       "10          575.0        5.0       NA  \n",
       "16          950.0  No rating       NA  "
      ]
     },
     "execution_count": 269,
     "metadata": {},
     "output_type": "execute_result"
    }
   ],
   "source": [
    "df.query(\"discount == 0\")"
   ]
  },
  {
   "cell_type": "code",
   "execution_count": 270,
   "id": "62d40c5c",
   "metadata": {},
   "outputs": [
    {
     "data": {
      "text/plain": [
       "NA    40\n",
       "Name: delivery, dtype: int64"
      ]
     },
     "execution_count": 270,
     "metadata": {},
     "output_type": "execute_result"
    }
   ],
   "source": [
    "df[\"delivery\"].value_counts()"
   ]
  },
  {
   "cell_type": "code",
   "execution_count": 271,
   "id": "6e0be599",
   "metadata": {},
   "outputs": [
    {
     "data": {
      "text/plain": [
       "No rating    35\n",
       "Name: rating, dtype: int64"
      ]
     },
     "execution_count": 271,
     "metadata": {},
     "output_type": "execute_result"
    }
   ],
   "source": [
    "# I wanted to know how many products have no rating\n",
    "df.query(\"rating == 'No rating'\")[\"rating\"].value_counts()"
   ]
  },
  {
   "cell_type": "code",
   "execution_count": 272,
   "id": "31aedc5d",
   "metadata": {},
   "outputs": [
    {
     "name": "stdout",
     "output_type": "stream",
     "text": [
      "<class 'pandas.core.frame.DataFrame'>\n",
      "RangeIndex: 40 entries, 0 to 39\n",
      "Data columns (total 6 columns):\n",
      " #   Column         Non-Null Count  Dtype  \n",
      "---  ------         --------------  -----  \n",
      " 0   product_name   40 non-null     object \n",
      " 1   old_price      40 non-null     float64\n",
      " 2   discount       40 non-null     int64  \n",
      " 3   current_price  40 non-null     float64\n",
      " 4   rating         40 non-null     object \n",
      " 5   delivery       40 non-null     object \n",
      "dtypes: float64(2), int64(1), object(3)\n",
      "memory usage: 2.0+ KB\n"
     ]
    }
   ],
   "source": [
    "df.info()"
   ]
  },
  {
   "cell_type": "markdown",
   "id": "29e36b7f",
   "metadata": {},
   "source": [
    "Now i want to create the code that will make the url from the search key word for all of this to work at the first place"
   ]
  },
  {
   "cell_type": "code",
   "execution_count": 252,
   "id": "272a58e8",
   "metadata": {},
   "outputs": [],
   "source": [
    "#I will convert this into an input while writing the final product on suplime text\n",
    "key_word = \"red capes\""
   ]
  },
  {
   "cell_type": "code",
   "execution_count": 253,
   "id": "879c26dc",
   "metadata": {},
   "outputs": [],
   "source": [
    "url_key_word = key_word.replace(\" \", \"+\")"
   ]
  },
  {
   "cell_type": "code",
   "execution_count": 254,
   "id": "108524bd",
   "metadata": {},
   "outputs": [
    {
     "data": {
      "text/plain": [
       "'red+capes'"
      ]
     },
     "execution_count": 254,
     "metadata": {},
     "output_type": "execute_result"
    }
   ],
   "source": [
    "url_key_word"
   ]
  },
  {
   "cell_type": "code",
   "execution_count": 255,
   "id": "1043d295",
   "metadata": {},
   "outputs": [],
   "source": [
    "url = \"https://www.jumia.com.eg/catalog/?q={}\".format(url_key_word)"
   ]
  },
  {
   "cell_type": "code",
   "execution_count": 256,
   "id": "d6e2730d",
   "metadata": {},
   "outputs": [
    {
     "data": {
      "text/plain": [
       "'https://www.jumia.com.eg/catalog/?q=red+capes'"
      ]
     },
     "execution_count": 256,
     "metadata": {},
     "output_type": "execute_result"
    }
   ],
   "source": [
    "url"
   ]
  },
  {
   "cell_type": "code",
   "execution_count": null,
   "id": "f56b21a1",
   "metadata": {},
   "outputs": [],
   "source": []
  }
 ],
 "metadata": {
  "kernelspec": {
   "display_name": "Python [conda env:new] *",
   "language": "python",
   "name": "conda-env-new-py"
  },
  "language_info": {
   "codemirror_mode": {
    "name": "ipython",
    "version": 3
   },
   "file_extension": ".py",
   "mimetype": "text/x-python",
   "name": "python",
   "nbconvert_exporter": "python",
   "pygments_lexer": "ipython3",
   "version": "3.8.15"
  }
 },
 "nbformat": 4,
 "nbformat_minor": 5
}
